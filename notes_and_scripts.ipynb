{
  "nbformat": 4,
  "nbformat_minor": 0,
  "metadata": {
    "colab": {
      "name": "notes-and-scripts.ipynb",
      "provenance": [],
      "authorship_tag": "ABX9TyMKeVeSPn1yfbakEEr1Lbhp",
      "include_colab_link": true
    },
    "kernelspec": {
      "name": "python3",
      "display_name": "Python 3"
    },
    "language_info": {
      "name": "python"
    }
  },
  "cells": [
    {
      "cell_type": "markdown",
      "metadata": {
        "id": "view-in-github",
        "colab_type": "text"
      },
      "source": [
        "<a href=\"https://colab.research.google.com/github/almemanuel/topicos-em-programacao-1/blob/main/notes_and_scripts.ipynb\" target=\"_parent\"><img src=\"https://colab.research.google.com/assets/colab-badge.svg\" alt=\"Open In Colab\"/></a>"
      ]
    },
    {
      "cell_type": "markdown",
      "source": [
        "# Anotações - 11/08"
      ],
      "metadata": {
        "id": "JRFKXish-lD4"
      }
    },
    {
      "cell_type": "markdown",
      "source": [
        "## Introdução a Ciência de Dados"
      ],
      "metadata": {
        "id": "ZYwrm5Rf-qxS"
      }
    },
    {
      "cell_type": "markdown",
      "source": [
        "Ciência de dados é o processo de exploração, manipulação e análise de dados (utilizando o método científico) para responder determinadas questões e/ou fazer recomendações capazes de serem diferenciais em uma tomada de decisões. \n",
        "\n",
        "Este processo deve ter um forte embasamento matemático-estatístico ligado a uma determinada situação. Também deve ser escalável e replicável\n",
        "\n",
        "A ciência de dados está envolvida com machine learning\n",
        "\n",
        "### Alguns conceito básicos\n",
        "- Dados são valores atribuídos a algo\n",
        "- Informações são os dados contextualizados para um determinado fim\n",
        "- Conhecimento é uma inferência a partir das informações\n",
        "- Inteligência é a tomada de decisões baseada no conhecimento\n",
        "\n",
        "A ciência de dados intersecciona matemática/estatística, negócios e tecnologia/automação\n",
        "\n",
        "A ciência de dados pode ser aplicada a tudo, desde que os dados sejam devidamente contextualizados\n",
        "\n",
        "O tamanho da base de dados pode tornar a análise inviável"
      ],
      "metadata": {
        "id": "Ani3aJid-t0C"
      }
    },
    {
      "cell_type": "markdown",
      "source": [
        "# Anotações - 15/08"
      ],
      "metadata": {
        "id": "zgxIpBieO3Jt"
      }
    },
    {
      "cell_type": "markdown",
      "source": [
        "## Introdução a Ciência de Dados - Continuação"
      ],
      "metadata": {
        "id": "YmzgkRFwQ3T8"
      }
    },
    {
      "cell_type": "markdown",
      "source": [
        "O método científico pode ser resumido na observação e tentativa de chegar a algum resultado válido a respeito de um determinado fenomêno. Este método é aplicado na ciência de dados\n",
        "\n",
        "PS: dados que não serão utilizados devem ser excluídos, diminuindo, assim, a margem de erros"
      ],
      "metadata": {
        "id": "QrO5RYA5RhRV"
      }
    },
    {
      "cell_type": "markdown",
      "source": [
        "## CRISP-DM (Cross Industry Standard Process for Data Mining)"
      ],
      "metadata": {
        "id": "_J-Dec7rTkFc"
      }
    },
    {
      "cell_type": "markdown",
      "source": [
        "Data Mining consiste em explorar um conjunto de dados de forma analítica a fim de encontrar um padrão\n",
        "\n",
        "CRISP-DM consiste em um conjunto de boas práticas (aka metodologia) para executar um projeto de Data Science criado em 1996. Consiste em:\n",
        "- Entendimento do negócio: definição do problema e alinhamento de expectativas\n",
        "- Entendimento dos dados\n",
        "    - Engenharia de dados: envolve tanto o _entendimento dos dados_ como a _preparação dos dados_\n",
        "- Preparação dos dados\n",
        "- Análise/Modelagem: análise exploratória, tratamento dos dados e definição do modelo\n",
        "    - Se necessário, retorna a fase de _entendimento dos dados_\n",
        "- Validação: processos que devem inferir se o modelo é funcional ou não\n",
        "- Preparação/Visualização: apresentação dos resultados obtidos\n",
        "\n",
        "Se o modelo for aplicado, é necessário realizar monitoramento, ajustes e melhorias contínuas"
      ],
      "metadata": {
        "id": "b_TPaxYaTqtD"
      }
    },
    {
      "cell_type": "markdown",
      "source": [
        "## Introdução ao Python"
      ],
      "metadata": {
        "id": "EJrXMyjuXQF0"
      }
    },
    {
      "cell_type": "markdown",
      "source": [
        "Python é uma linguagem de programação simples e versátil, de grande popularidade no mercado"
      ],
      "metadata": {
        "id": "0AXN8UsJXYMz"
      }
    },
    {
      "cell_type": "code",
      "source": [
        "print('Hello, World!')"
      ],
      "metadata": {
        "id": "NuzuVUbyYMR0",
        "outputId": "6bcdef77-767a-4bbd-9ae2-cb0b38ff9fa6",
        "colab": {
          "base_uri": "https://localhost:8080/"
        }
      },
      "execution_count": null,
      "outputs": [
        {
          "output_type": "stream",
          "name": "stdout",
          "text": [
            "Hello, World!\n"
          ]
        }
      ]
    },
    {
      "cell_type": "markdown",
      "source": [
        "# Anotações - 18/08"
      ],
      "metadata": {
        "id": "ZAJx2-CS5jK8"
      }
    },
    {
      "cell_type": "code",
      "source": [
        "import numpy as np\n",
        "import pandas as pd"
      ],
      "metadata": {
        "id": "dgOpbDsVKIvO"
      },
      "execution_count": 1,
      "outputs": []
    },
    {
      "cell_type": "markdown",
      "source": [
        "## NumPy\n",
        " Biblioteca utilizada como base para o pandas. Usada para:\n",
        " - computação numérica\n",
        " - executar tarefas matemáticas\n",
        "\n",
        " Muito utilizado para trabalhar com arrays, que possuem uma performance mais eficiente do que listas\n",
        "\n"
      ],
      "metadata": {
        "id": "XtAm7hau5jJU"
      }
    },
    {
      "cell_type": "code",
      "source": [
        "vendas_valor = [150000, 230000, 820000, 143000, 184000]\n",
        "comissao = [5, 8, 8, 5, 12]"
      ],
      "metadata": {
        "id": "ZaI9GxfyKhhO"
      },
      "execution_count": 2,
      "outputs": []
    },
    {
      "cell_type": "code",
      "source": [
        "venda_valor = np.array(vendas_valor)\n",
        "comissao = np.array(comissao)"
      ],
      "metadata": {
        "id": "vSXqv_aTK-D2"
      },
      "execution_count": 4,
      "outputs": []
    },
    {
      "cell_type": "code",
      "source": [
        "venda_valor * (comissao / 100)"
      ],
      "metadata": {
        "id": "H-ZLboyQLTkQ",
        "outputId": "62a76de0-d15a-4a3c-c8fa-899227ea82bf",
        "colab": {
          "base_uri": "https://localhost:8080/"
        }
      },
      "execution_count": 5,
      "outputs": [
        {
          "output_type": "execute_result",
          "data": {
            "text/plain": [
              "array([ 7500., 18400., 65600.,  7150., 22080.])"
            ]
          },
          "metadata": {},
          "execution_count": 5
        }
      ]
    },
    {
      "cell_type": "code",
      "source": [
        "venda_valor.shape"
      ],
      "metadata": {
        "id": "kepl5QqVLirn",
        "outputId": "c74124cd-d446-476f-fd03-2ae947bea5a6",
        "colab": {
          "base_uri": "https://localhost:8080/"
        }
      },
      "execution_count": 6,
      "outputs": [
        {
          "output_type": "execute_result",
          "data": {
            "text/plain": [
              "(5,)"
            ]
          },
          "metadata": {},
          "execution_count": 6
        }
      ]
    },
    {
      "cell_type": "code",
      "source": [
        "venda_valor.dtype"
      ],
      "metadata": {
        "id": "QOPIZghSL-e_",
        "outputId": "4c9982c2-ca54-4f00-efb9-bb08b8dcbcb4",
        "colab": {
          "base_uri": "https://localhost:8080/"
        }
      },
      "execution_count": 7,
      "outputs": [
        {
          "output_type": "execute_result",
          "data": {
            "text/plain": [
              "dtype('int64')"
            ]
          },
          "metadata": {},
          "execution_count": 7
        }
      ]
    },
    {
      "cell_type": "code",
      "source": [
        "data = np.array([1, 2, 3, 4.0])\n",
        "print(data)\n",
        "data.dtype"
      ],
      "metadata": {
        "id": "_skAjFRrMbNF",
        "outputId": "64fc921d-1ae7-4bd7-ab26-fe0f2e323024",
        "colab": {
          "base_uri": "https://localhost:8080/"
        }
      },
      "execution_count": 9,
      "outputs": [
        {
          "output_type": "stream",
          "name": "stdout",
          "text": [
            "[1. 2. 3. 4.]\n"
          ]
        },
        {
          "output_type": "execute_result",
          "data": {
            "text/plain": [
              "dtype('float64')"
            ]
          },
          "metadata": {},
          "execution_count": 9
        }
      ]
    },
    {
      "cell_type": "markdown",
      "source": [
        "# Listas de Exercício"
      ],
      "metadata": {
        "id": "G0EwU2XRcUXa"
      }
    },
    {
      "cell_type": "markdown",
      "source": [
        "## [Estrutura Sequencial](https://wiki.python.org.br/EstruturaSequencial)"
      ],
      "metadata": {
        "id": "qjLYmn-ocboK"
      }
    },
    {
      "cell_type": "markdown",
      "source": [
        "Faça um Programa que mostre a mensagem \"Alo mundo\" na tela."
      ],
      "metadata": {
        "id": "SEt8GhfcdUJi"
      }
    },
    {
      "cell_type": "code",
      "source": [
        "print('Alo mundo')"
      ],
      "metadata": {
        "id": "ze8PYWZidkEK",
        "outputId": "d4ffa45f-b1d9-4340-b511-902c7b1e7b3c",
        "colab": {
          "base_uri": "https://localhost:8080/"
        }
      },
      "execution_count": null,
      "outputs": [
        {
          "output_type": "stream",
          "name": "stdout",
          "text": [
            "Alo mundo\n"
          ]
        }
      ]
    },
    {
      "cell_type": "markdown",
      "source": [
        "Faça um Programa que peça um número e então mostre a mensagem _O número informado foi [número]_."
      ],
      "metadata": {
        "id": "K5K6Fc1VdypC"
      }
    },
    {
      "cell_type": "code",
      "source": [
        "number = float(input())\n",
        "\n",
        "print(f'O número informado foi {number}')"
      ],
      "metadata": {
        "id": "qiUIEKyMd7Cu",
        "outputId": "7bb0ba5c-158f-4374-aa0f-2851d7374f12",
        "colab": {
          "base_uri": "https://localhost:8080/"
        }
      },
      "execution_count": null,
      "outputs": [
        {
          "output_type": "stream",
          "name": "stdout",
          "text": [
            "5\n",
            "O número informado foi 5.0\n"
          ]
        }
      ]
    },
    {
      "cell_type": "markdown",
      "source": [
        "\n",
        "Faça um Programa que peça dois números e imprima a soma."
      ],
      "metadata": {
        "id": "uCr0UY28d3uy"
      }
    },
    {
      "cell_type": "code",
      "source": [
        "values = [0, 0]\n",
        "add = 0\n",
        "\n",
        "for i in values:\n",
        "    i = float(input())\n",
        "    add += i\n",
        "\n",
        "print(add)\n"
      ],
      "metadata": {
        "id": "XaJaix4aebNz",
        "outputId": "22330479-17a5-43e0-e73c-189f61f67b24",
        "colab": {
          "base_uri": "https://localhost:8080/"
        }
      },
      "execution_count": null,
      "outputs": [
        {
          "name": "stdout",
          "output_type": "stream",
          "text": [
            "5\n",
            "2\n"
          ]
        },
        {
          "output_type": "execute_result",
          "data": {
            "text/plain": [
              "7.0"
            ]
          },
          "metadata": {},
          "execution_count": 8
        }
      ]
    },
    {
      "cell_type": "markdown",
      "source": [
        "Faça um Programa que peça as 4 notas bimestrais e mostre a média."
      ],
      "metadata": {
        "id": "IieN4_yieWFC"
      }
    },
    {
      "cell_type": "code",
      "source": [
        "grades = []\n",
        "\n",
        "for i in range(0, 4):\n",
        "    grades.append(float(input()))\n",
        "\n",
        "sum(grades) / len(grades)"
      ],
      "metadata": {
        "id": "ULtTDvqjghdK",
        "outputId": "42c3a090-31fd-476e-ec35-6996a5ab0a3e",
        "colab": {
          "base_uri": "https://localhost:8080/"
        }
      },
      "execution_count": null,
      "outputs": [
        {
          "name": "stdout",
          "output_type": "stream",
          "text": [
            "7\n",
            "7\n",
            "7\n",
            "7\n"
          ]
        },
        {
          "output_type": "execute_result",
          "data": {
            "text/plain": [
              "7.0"
            ]
          },
          "metadata": {},
          "execution_count": 11
        }
      ]
    },
    {
      "cell_type": "markdown",
      "source": [
        "Faça um Programa que converta metros para centímetros."
      ],
      "metadata": {
        "id": "cGA9mARggdKi"
      }
    },
    {
      "cell_type": "code",
      "source": [
        "float(input()) / 100"
      ],
      "metadata": {
        "id": "bFH15arfhjYC",
        "outputId": "b7116fa7-2635-40b9-9040-45de1fdf6d1f",
        "colab": {
          "base_uri": "https://localhost:8080/"
        }
      },
      "execution_count": null,
      "outputs": [
        {
          "name": "stdout",
          "output_type": "stream",
          "text": [
            "500\n"
          ]
        },
        {
          "output_type": "execute_result",
          "data": {
            "text/plain": [
              "5.0"
            ]
          },
          "metadata": {},
          "execution_count": 12
        }
      ]
    },
    {
      "cell_type": "markdown",
      "source": [
        "Faça um Programa que peça o raio de um círculo, calcule e mostre sua área."
      ],
      "metadata": {
        "id": "8rBE0eWGhh1C"
      }
    },
    {
      "cell_type": "code",
      "source": [
        "from math import pi, pow\n",
        "\n",
        "pi * pow(float(input()), 2)"
      ],
      "metadata": {
        "id": "8sRs1GEHh7xC",
        "outputId": "33825025-b35d-4cca-ada7-f8ccbed9e4b5",
        "colab": {
          "base_uri": "https://localhost:8080/"
        }
      },
      "execution_count": null,
      "outputs": [
        {
          "name": "stdout",
          "output_type": "stream",
          "text": [
            "10\n"
          ]
        },
        {
          "output_type": "execute_result",
          "data": {
            "text/plain": [
              "314.1592653589793"
            ]
          },
          "metadata": {},
          "execution_count": 15
        }
      ]
    },
    {
      "cell_type": "markdown",
      "source": [
        "Faça um Programa que calcule a área de um quadrado, em seguida mostre o dobro desta área para o usuário."
      ],
      "metadata": {
        "id": "ti3SeR4uh6JC"
      }
    },
    {
      "cell_type": "code",
      "source": [
        "pow(float(input()), 2) * 2"
      ],
      "metadata": {
        "id": "raH_CJVXi46y",
        "outputId": "d2303f78-099e-45da-e098-c726d15d7bda",
        "colab": {
          "base_uri": "https://localhost:8080/"
        }
      },
      "execution_count": null,
      "outputs": [
        {
          "name": "stdout",
          "output_type": "stream",
          "text": [
            "4\n"
          ]
        },
        {
          "output_type": "execute_result",
          "data": {
            "text/plain": [
              "32.0"
            ]
          },
          "metadata": {},
          "execution_count": 16
        }
      ]
    },
    {
      "cell_type": "markdown",
      "source": [
        "Faça um Programa que pergunte quanto você ganha por hora e o número de horas trabalhadas no mês. Calcule e mostre o total do seu salário no referido mês."
      ],
      "metadata": {
        "id": "WA-X9Fj5i3Uy"
      }
    },
    {
      "cell_type": "code",
      "source": [
        "salary = float(input('Salary (per hour): $ '))\n",
        "time = int(input('Time worked (ih hours): '))\n",
        "\n",
        "print(f'$ {(salary * time):.2f}')"
      ],
      "metadata": {
        "id": "EBYSz2lOjILx",
        "outputId": "a6b70a81-89fb-4f20-ee28-4168a2ecebed",
        "colab": {
          "base_uri": "https://localhost:8080/"
        }
      },
      "execution_count": null,
      "outputs": [
        {
          "output_type": "stream",
          "name": "stdout",
          "text": [
            "Salary (per hour): $ 10\n",
            "Time worked (ih hours): 100\n",
            "$ 1000.00\n"
          ]
        }
      ]
    },
    {
      "cell_type": "markdown",
      "source": [
        "Faça um Programa que peça a temperatura em graus Fahrenheit, transforme e mostre a temperatura em graus Celsius.\n",
        "\n",
        "${C = 5 \\cdot \\frac{F - 32}{9}}$"
      ],
      "metadata": {
        "id": "Zo2pgllBjGhi"
      }
    },
    {
      "cell_type": "code",
      "source": [
        "5 * ((float(input()) - 32) / 9)"
      ],
      "metadata": {
        "id": "KWmb4dwjFVDf",
        "outputId": "a6b191b1-d392-466b-fc47-ca3c2831d9dc",
        "colab": {
          "base_uri": "https://localhost:8080/"
        }
      },
      "execution_count": null,
      "outputs": [
        {
          "name": "stdout",
          "output_type": "stream",
          "text": [
            "59\n"
          ]
        },
        {
          "output_type": "execute_result",
          "data": {
            "text/plain": [
              "15.0"
            ]
          },
          "metadata": {},
          "execution_count": 9
        }
      ]
    },
    {
      "cell_type": "markdown",
      "source": [
        "Faça um Programa que peça a temperatura em graus Celsius, transforme e mostre em graus Fahrenheit.\n",
        "\n",
        "$C = 5 \\cdot \\frac{F - 32}{9} \\to F - 32 = \\frac{C \\cdot 9}{5} \\to F = \\frac{C \\cdot 9}{5} + 32$"
      ],
      "metadata": {
        "id": "7QxVKrBmDqZy"
      }
    },
    {
      "cell_type": "code",
      "source": [
        "(float(input()) * 9) / 5 + 32"
      ],
      "metadata": {
        "id": "VmOBaTaRIKpY",
        "outputId": "632067c0-69da-46c2-c88e-f88b6ce9d589",
        "colab": {
          "base_uri": "https://localhost:8080/"
        }
      },
      "execution_count": null,
      "outputs": [
        {
          "name": "stdout",
          "output_type": "stream",
          "text": [
            "15\n"
          ]
        },
        {
          "output_type": "execute_result",
          "data": {
            "text/plain": [
              "59.0"
            ]
          },
          "metadata": {},
          "execution_count": 8
        }
      ]
    },
    {
      "cell_type": "markdown",
      "source": [
        "Faça um Programa que peça 2 números inteiros e um número real. Calcule e mostre:\n",
        "- o produto do dobro do primeiro com metade do segundo .\n",
        "- a soma do triplo do primeiro com o terceiro.\n",
        "- o terceiro elevado ao cubo."
      ],
      "metadata": {
        "id": "gChRbIQdF364"
      }
    },
    {
      "cell_type": "code",
      "source": [
        "x = int(input())\n",
        "y = int(input())\n",
        "z = float(input())\n",
        "\n",
        "print(f'{(x * 2) * (y / 2)}')\n",
        "print(f'{(x * 3) + z}')\n",
        "print(f'{pow(z, 3)}')"
      ],
      "metadata": {
        "id": "whDzY1EMKYlw",
        "outputId": "8395b895-f0fb-4c32-da23-527f4cacf478",
        "colab": {
          "base_uri": "https://localhost:8080/"
        }
      },
      "execution_count": null,
      "outputs": [
        {
          "output_type": "stream",
          "name": "stdout",
          "text": [
            "3\n",
            "4\n",
            "5\n",
            "12.0\n",
            "14.0\n",
            "125.0\n"
          ]
        }
      ]
    },
    {
      "cell_type": "markdown",
      "source": [
        "Tendo como dados de entrada a altura de uma pessoa, construa um algoritmo que calcule seu peso ideal, usando a seguinte fórmula: \n",
        "\n",
        "$72.7 \\cdot altura - 58$"
      ],
      "metadata": {
        "id": "TIFbBD1dLQcf"
      }
    },
    {
      "cell_type": "code",
      "source": [
        "72.7 * float(input()) - 58"
      ],
      "metadata": {
        "id": "7qYZSba5Lf35",
        "outputId": "61c43103-78c3-4ea4-f103-e39c9e435c7f",
        "colab": {
          "base_uri": "https://localhost:8080/"
        }
      },
      "execution_count": null,
      "outputs": [
        {
          "name": "stdout",
          "output_type": "stream",
          "text": [
            "1.73\n"
          ]
        },
        {
          "output_type": "execute_result",
          "data": {
            "text/plain": [
              "67.771"
            ]
          },
          "metadata": {},
          "execution_count": 15
        }
      ]
    },
    {
      "cell_type": "markdown",
      "source": [
        "Tendo como dado de entrada a altura (h) de uma pessoa, construa um algoritmo que calcule seu peso ideal, utilizando as seguintes fórmulas:\n",
        "- Para homens: $72.7 \\cdot h - 58$\n",
        "- Para mulheres: $62.1 \\cdot h - 44.7$"
      ],
      "metadata": {
        "id": "LobChKgcLUtP"
      }
    },
    {
      "cell_type": "code",
      "source": [
        "h = float(input())\n",
        "\n",
        "print(f'{(72.7 * h - 58):.3f}')\n",
        "print(f'{(62.1 * h - 44.7):.3f}')"
      ],
      "metadata": {
        "id": "_BLluKtbL8pu",
        "outputId": "ce6fb84a-46ef-4e98-a68c-81d833ac5d24",
        "colab": {
          "base_uri": "https://localhost:8080/"
        }
      },
      "execution_count": null,
      "outputs": [
        {
          "output_type": "stream",
          "name": "stdout",
          "text": [
            "1.75\n",
            "69.225\n",
            "63.975\n"
          ]
        }
      ]
    },
    {
      "cell_type": "markdown",
      "source": [
        "João Papo-de-Pescador, homem de bem, comprou um microcomputador para controlar o rendimento diário de seu trabalho. Toda vez que ele traz um peso de peixes maior que o estabelecido pelo regulamento de pesca do estado de São Paulo (50 quilos) deve pagar uma multa de R$ 4,00 por quilo excedente. João precisa que você faça um programa que leia a variável peso (peso de peixes) e calcule o excesso. Gravar na variável excesso a quantidade de quilos além do limite e na variável multa o valor da multa que João deverá pagar. Imprima os dados do programa com as mensagens adequadas."
      ],
      "metadata": {
        "id": "09LEw-nDLuvo"
      }
    },
    {
      "cell_type": "code",
      "source": [
        "peso = float(input())\n",
        "excesso = peso- 50\n",
        "multa = excesso * 4\n",
        "\n",
        "print(f'{(peso):.3f} kg, {(excesso):.3f} kg, $ {(multa):.2f}')"
      ],
      "metadata": {
        "id": "Rnkq9K0WNDpQ",
        "outputId": "b9bbce1e-3507-4f4c-befb-de076cf339d3",
        "colab": {
          "base_uri": "https://localhost:8080/"
        }
      },
      "execution_count": null,
      "outputs": [
        {
          "output_type": "stream",
          "name": "stdout",
          "text": [
            "51\n",
            "51.000 kg, 1.000 kg, $ 4.00\n"
          ]
        }
      ]
    },
    {
      "cell_type": "markdown",
      "source": [
        "Faça um Programa que pergunte quanto você ganha por hora e o número de horas trabalhadas no mês. Calcule e mostre o total do seu salário no referido mês, sabendo-se que são descontados 11% para o Imposto de Renda, 8% para o INSS e 5% para o sindicato, faça um programa que nos dê:\n",
        "- salário bruto\n",
        "- quanto pagou ao INSS.\n",
        "- quanto pagou ao sindicato.\n",
        "- o salário líquido.\n",
        "calcule os descontos e o salário líquido, conforme abaixo:\n",
        "\n",
        "Salário Bruto - IR (11%) - INSS (8%) - Sindicato ( 5%) = Salário Liquido\n",
        "Obs.: Salário Bruto - Descontos = Salário Líquido."
      ],
      "metadata": {
        "id": "G4vVPiQhMdZI"
      }
    },
    {
      "cell_type": "code",
      "source": [
        "hour_salary = float(input())\n",
        "time = int(input())\n",
        "\n",
        "month_salary = hour_salary * time\n",
        "print(month_salary)\n",
        "inss = month_salary * 0.11\n",
        "print(inss)\n",
        "sindicate = month_salary * 0.05\n",
        "print(sindicate)\n",
        "print(month_salary - inss - sindicate)"
      ],
      "metadata": {
        "id": "fBiJOz28N2ro",
        "outputId": "9fd8cd2a-f4d1-4db2-ccc1-b31bcf1c4bd4",
        "colab": {
          "base_uri": "https://localhost:8080/"
        }
      },
      "execution_count": null,
      "outputs": [
        {
          "output_type": "stream",
          "name": "stdout",
          "text": [
            "10\n",
            "100\n",
            "1000.0\n",
            "110.0\n",
            "50.0\n",
            "840.0\n"
          ]
        }
      ]
    },
    {
      "cell_type": "markdown",
      "source": [
        "Faça um programa para uma loja de tintas. O programa deverá pedir o tamanho em metros quadrados da área a ser pintada. Considere que a cobertura da tinta é de 1 litro para cada 3 metros quadrados e que a tinta é vendida em latas de 18 litros, que custam R$ 80,00. Informe ao usuário a quantidades de latas de tinta a serem compradas e o preço total."
      ],
      "metadata": {
        "id": "sb24U77qN3z-"
      }
    },
    {
      "cell_type": "code",
      "source": [
        "from math import ceil\n",
        "\n",
        "area = float(input())\n",
        "can_of_paint = ceil((area / 3) / 18)\n",
        "\n",
        "print(f'{can_of_paint}, R$ {can_of_paint * 80}')"
      ],
      "metadata": {
        "id": "azB4hGFZPsof",
        "outputId": "a3408231-14a6-4c0f-ad23-22a00ff21ea3",
        "colab": {
          "base_uri": "https://localhost:8080/"
        }
      },
      "execution_count": null,
      "outputs": [
        {
          "output_type": "stream",
          "name": "stdout",
          "text": [
            "90\n",
            "2, R$ 160\n"
          ]
        }
      ]
    },
    {
      "cell_type": "markdown",
      "source": [
        "## [Estrutura de Decisão](https://wiki.python.org.br/EstruturaDeDecisao)"
      ],
      "metadata": {
        "id": "gIwJja24ch3T"
      }
    },
    {
      "cell_type": "markdown",
      "source": [
        "## [Estrutura de Repetição](https://wiki.python.org.br/EstruturaDeRepeticao)"
      ],
      "metadata": {
        "id": "xzXwFRmFcr_r"
      }
    },
    {
      "cell_type": "markdown",
      "source": [
        "## [Listas](https://wiki.python.org.br/ExerciciosListas)"
      ],
      "metadata": {
        "id": "P0Y3nk2FcvjM"
      }
    },
    {
      "cell_type": "markdown",
      "source": [
        "## [Strings](https://wiki.python.org.br/EexerciciosComStrings)"
      ],
      "metadata": {
        "id": "FheUYuEWc246"
      }
    },
    {
      "cell_type": "markdown",
      "source": [
        "## [Arquivos](https://wiki.python.org.br/ExerciciosArquivos)"
      ],
      "metadata": {
        "id": "MOcYTMiqc71y"
      }
    },
    {
      "cell_type": "markdown",
      "source": [
        "## [Classes](https://wiki.python.org.br/ExerciciosClasses)"
      ],
      "metadata": {
        "id": "nxcL9rybdCpj"
      }
    },
    {
      "cell_type": "markdown",
      "source": [
        "## [Projetos](https://wiki.python.org.br/ListaDeExerciciosProjetos)"
      ],
      "metadata": {
        "id": "MyaIH2OydMRD"
      }
    }
  ]
}