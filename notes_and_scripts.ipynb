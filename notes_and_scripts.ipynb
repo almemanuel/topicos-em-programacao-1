{
  "nbformat": 4,
  "nbformat_minor": 0,
  "metadata": {
    "colab": {
      "name": "notes-and-scripts.ipynb",
      "provenance": [],
      "authorship_tag": "ABX9TyODFhVEzOsdRGzzWKPWFSVM",
      "include_colab_link": true
    },
    "kernelspec": {
      "name": "python3",
      "display_name": "Python 3"
    },
    "language_info": {
      "name": "python"
    }
  },
  "cells": [
    {
      "cell_type": "markdown",
      "metadata": {
        "id": "view-in-github",
        "colab_type": "text"
      },
      "source": [
        "<a href=\"https://colab.research.google.com/github/almemanuel/topicos-em-programacao-1/blob/main/notes_and_scripts.ipynb\" target=\"_parent\"><img src=\"https://colab.research.google.com/assets/colab-badge.svg\" alt=\"Open In Colab\"/></a>"
      ]
    },
    {
      "cell_type": "markdown",
      "source": [
        "# Anotações - 11/08"
      ],
      "metadata": {
        "id": "JRFKXish-lD4"
      }
    },
    {
      "cell_type": "markdown",
      "source": [
        "## Introdução a Ciência de Dados"
      ],
      "metadata": {
        "id": "ZYwrm5Rf-qxS"
      }
    },
    {
      "cell_type": "markdown",
      "source": [
        "Ciência de dados é o processo de exploração, manipulação e análise de dados (utilizando o método científico) para responder determinadas questões e/ou fazer recomendações capazes de serem diferenciais em uma tomada de decisões. \n",
        "\n",
        "Este processo deve ter um forte embasamento matemático-estatístico ligado a uma determinada situação. Também deve ser escalável e replicável\n",
        "\n",
        "A ciência de dados está envolvida com machine learning\n",
        "\n",
        "### Alguns conceito básicos\n",
        "- Dados são valores atribuídos a algo\n",
        "- Informações são os dados contextualizados para um determinado fim\n",
        "- Conhecimento é uma inferência a partir das informações\n",
        "- Inteligência é a tomada de decisões baseada no conhecimento\n",
        "\n",
        "A ciência de dados intersecciona matemática/estatística, negócios e tecnologia/automação\n",
        "\n",
        "A ciência de dados pode ser aplicada a tudo, desde que os dados sejam devidamente contextualizados\n",
        "\n",
        "O tamanho da base de dados pode tornar a análise inviável"
      ],
      "metadata": {
        "id": "Ani3aJid-t0C"
      }
    }
  ]
}